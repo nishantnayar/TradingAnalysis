{
 "cells": [
  {
   "metadata": {
    "ExecuteTime": {
     "end_time": "2024-10-07T23:54:58.502001Z",
     "start_time": "2024-10-07T23:54:58.075260Z"
    }
   },
   "cell_type": "code",
   "source": [
    "import pickle\n",
    "\n",
    "def read_pickle_file(file_path):\n",
    "    \"\"\"Reads a pickle file and returns its contents.\n",
    "\n",
    "    Args:\n",
    "        file_path (str): The path to the pickle file.\n",
    "\n",
    "    Returns:\n",
    "        The contents of the pickle file.\n",
    "    \"\"\"\n",
    "\n",
    "    try:\n",
    "        with open(file_path, 'rb') as f:\n",
    "            data = pickle.load(f)\n",
    "        return data\n",
    "    except FileNotFoundError:\n",
    "        print(f\"Error: Pickle file '{file_path}' not found.\")\n",
    "        return None\n",
    "    except Exception as e:\n",
    "        print(f\"Error reading pickle file: {e}\")\n",
    "        return None\n",
    "\n",
    "# Example usage:\n",
    "file_path = r\"C:\\Users\\nisha\\Documents\\PythonProjects\\TradingAnalysis\\src\\data\\pickle\\historical_data_day.pkl\"\n",
    "data = read_pickle_file(file_path)\n",
    "#symbol='AAPL'\n",
    "#data=data[data['symbol']==symbol]\n",
    "\n",
    "if data is not None:\n",
    "    # Process the data\n",
    "    print(f'Number of rows in dataset is {len(data)}')\n",
    "else:\n",
    "    print(\"Failed to read the pickle file.\")"
   ],
   "id": "d82ef80249afb1d3",
   "outputs": [
    {
     "name": "stdout",
     "output_type": "stream",
     "text": [
      "Error reading pickle file: No module named 'numpy._core'\n",
      "Failed to read the pickle file.\n"
     ]
    }
   ],
   "execution_count": 1
  },
  {
   "metadata": {},
   "cell_type": "code",
   "source": "data['symbol'].value_counts()",
   "id": "6856f230790af0db",
   "outputs": [],
   "execution_count": null
  },
  {
   "metadata": {},
   "cell_type": "code",
   "source": "data",
   "id": "c004874fe5dbf5f2",
   "outputs": [],
   "execution_count": null
  },
  {
   "metadata": {
    "ExecuteTime": {
     "end_time": "2024-10-07T23:55:10.816925Z",
     "start_time": "2024-10-07T23:55:08.589014Z"
    }
   },
   "cell_type": "code",
   "source": "import tensorflow as tf",
   "id": "1f659f714b5901c",
   "outputs": [],
   "execution_count": 2
  },
  {
   "metadata": {
    "ExecuteTime": {
     "end_time": "2024-10-07T23:55:38.002855Z",
     "start_time": "2024-10-07T23:55:12.792370Z"
    }
   },
   "cell_type": "code",
   "source": "print(tf.config.list_physical_devices('GPU'))",
   "id": "1270ce6cafb6d1cd",
   "outputs": [
    {
     "name": "stdout",
     "output_type": "stream",
     "text": [
      "[PhysicalDevice(name='/physical_device:GPU:0', device_type='GPU')]\n"
     ]
    }
   ],
   "execution_count": 3
  },
  {
   "metadata": {
    "ExecuteTime": {
     "end_time": "2024-10-07T23:56:11.462761Z",
     "start_time": "2024-10-07T23:56:11.431426Z"
    }
   },
   "cell_type": "code",
   "source": "tf.config.list_physical_devices('GPU')",
   "id": "f448e3f0c994969e",
   "outputs": [
    {
     "data": {
      "text/plain": [
       "[PhysicalDevice(name='/physical_device:GPU:0', device_type='GPU')]"
      ]
     },
     "execution_count": 4,
     "metadata": {},
     "output_type": "execute_result"
    }
   ],
   "execution_count": 4
  },
  {
   "metadata": {},
   "cell_type": "code",
   "outputs": [],
   "execution_count": null,
   "source": "",
   "id": "2798b761c74460be"
  }
 ],
 "metadata": {
  "kernelspec": {
   "display_name": "Python 3",
   "language": "python",
   "name": "python3"
  },
  "language_info": {
   "codemirror_mode": {
    "name": "ipython",
    "version": 2
   },
   "file_extension": ".py",
   "mimetype": "text/x-python",
   "name": "python",
   "nbconvert_exporter": "python",
   "pygments_lexer": "ipython2",
   "version": "2.7.6"
  }
 },
 "nbformat": 4,
 "nbformat_minor": 5
}
