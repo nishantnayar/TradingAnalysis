{
 "cells": [
  {
   "cell_type": "code",
   "id": "d82ef80249afb1d3",
   "metadata": {},
   "source": [
    "import pickle\n",
    "\n",
    "def read_pickle_file(file_path):\n",
    "    \"\"\"Reads a pickle file and returns its contents.\n",
    "\n",
    "    Args:\n",
    "        file_path (str): The path to the pickle file.\n",
    "\n",
    "    Returns:\n",
    "        The contents of the pickle file.\n",
    "    \"\"\"\n",
    "\n",
    "    try:\n",
    "        with open(file_path, 'rb') as f:\n",
    "            data = pickle.load(f)\n",
    "        return data\n",
    "    except FileNotFoundError:\n",
    "        print(f\"Error: Pickle file '{file_path}' not found.\")\n",
    "        return None\n",
    "    except Exception as e:\n",
    "        print(f\"Error reading pickle file: {e}\")\n",
    "        return None\n",
    "\n",
    "# Example usage:\n",
    "file_path = r\"C:\\Users\\nisha\\Documents\\PythonProjects\\TradingAnalysis\\src\\data\\pickle\\historical_data_hour.pkl\"\n",
    "data = read_pickle_file(file_path)\n",
    "symbol='AMD'\n",
    "data=data[data['symbol']==symbol]\n",
    "\n",
    "if data is not None:\n",
    "    # Process the data\n",
    "    print(f'Number of rows in dataset is {len(data)}')\n",
    "else:\n",
    "    print(\"Failed to read the pickle file.\")"
   ],
   "outputs": [],
   "execution_count": null
  },
  {
   "cell_type": "code",
   "id": "6856f230790af0db",
   "metadata": {},
   "source": [
    "data['symbol'].value_counts()"
   ],
   "outputs": [],
   "execution_count": null
  },
  {
   "cell_type": "code",
   "id": "c004874fe5dbf5f2",
   "metadata": {},
   "source": [
    "data"
   ],
   "outputs": [],
   "execution_count": null
  },
  {
   "cell_type": "code",
   "id": "2798b761c74460be",
   "metadata": {
    "ExecuteTime": {
     "end_time": "2024-10-14T01:23:23.075755Z",
     "start_time": "2024-10-14T01:23:18.442304Z"
    }
   },
   "source": [
    "import tensorflow as tf\n",
    "print(\"TensorFlow version:\", tf.__version__)\n",
    "print(\"Num GPUs Available: \", len(tf.config.experimental.list_physical_devices('GPU')))\n"
   ],
   "outputs": [
    {
     "name": "stdout",
     "output_type": "stream",
     "text": [
      "TensorFlow version: 2.10.1\n",
      "Num GPUs Available:  1\n"
     ]
    }
   ],
   "execution_count": 1
  },
  {
   "cell_type": "code",
   "id": "98c8e0c3-6c8f-485a-9a45-c32c7c49684d",
   "metadata": {},
   "source": [
    "%matplotlib inline\n",
    "import matplotlib.pyplot as plt\n",
    "plt.rcParams['figure.figsize'] = (7,4.5) # Make the default figures a bit bigger\n",
    "import numpy as np\n",
    "import random\n",
    "import pandas as pd\n",
    "from datetime import datetime\n",
    "from sklearn.metrics import accuracy_score, precision_score, recall_score\n",
    "from sklearn.model_selection import train_test_split\n",
    "from tensorflow.keras import layers, losses\n",
    "from tensorflow.keras.models import Model\n",
    "from sklearn.preprocessing import MinMaxScaler\n",
    "import tensorflow as tf"
   ],
   "outputs": [],
   "execution_count": null
  },
  {
   "metadata": {},
   "cell_type": "code",
   "source": [
    "#data['date'] = pd.to_datetime(data['timestamp']).dt.strftime('%Y-%m-%d')\n",
    "data.columns"
   ],
   "id": "8f7d2962934ef1e2",
   "outputs": [],
   "execution_count": null
  },
  {
   "metadata": {},
   "cell_type": "code",
   "source": "data=data.reset_index()",
   "id": "eae67389d7a58421",
   "outputs": [],
   "execution_count": null
  },
  {
   "metadata": {},
   "cell_type": "code",
   "source": "data['date'] = pd.to_datetime(data['timestamp']).dt.strftime('%Y-%m-%d')",
   "id": "fc31dcd790230f08",
   "outputs": [],
   "execution_count": null
  },
  {
   "metadata": {},
   "cell_type": "code",
   "source": [
    "data= data[['date', 'close']]\n",
    "data['date'] = pd.to_datetime(data['date'])\n",
    "data.dtypes"
   ],
   "id": "a8d7764bcc8542f9",
   "outputs": [],
   "execution_count": null
  },
  {
   "metadata": {},
   "cell_type": "code",
   "source": "data['date'].min(), data['date'].max()",
   "id": "fc12f6c17cfb8f21",
   "outputs": [],
   "execution_count": null
  },
  {
   "metadata": {},
   "cell_type": "code",
   "source": [
    "import plotly.graph_objects as go\n",
    "max_date = data['date'].max().strftime('%Y-%m-%d')\n",
    "min_date = data['date'].min().strftime('%Y-%m-%d')\n",
    "fig = go.Figure()\n",
    "fig.add_trace(go.Scatter(x=data['date'], y=data['close'], name='Close price'))\n",
    "fig.update_layout(showlegend=True, title=f'{symbol} between {min_date}  and {max_date}')\n",
    "fig.show()"
   ],
   "id": "685d18ecd39f3ae8",
   "outputs": [],
   "execution_count": null
  },
  {
   "metadata": {},
   "cell_type": "code",
   "source": [
    "train_size = int(data.shape[0]*0.7)\n",
    "# test_size = data.shape[0]-train_size\n",
    "train = data[:train_size]\n",
    "test = data[train_size:]\n",
    "train.shape, test.shape"
   ],
   "id": "d4a5f0e368e04403",
   "outputs": [],
   "execution_count": null
  },
  {
   "metadata": {},
   "cell_type": "code",
   "source": [
    "from sklearn.preprocessing import StandardScaler\n",
    "\n",
    "# Initialize the StandardScaler\n",
    "scaler = StandardScaler()\n",
    "\n",
    "# Fit the scaler on the 'close' column of the training data\n",
    "scaler.fit(train[['close']])\n",
    "\n",
    "# Transform 'close' in both training and test sets\n",
    "train.loc[:, 'close'] = scaler.transform(train[['close']])\n",
    "test.loc[:, 'close'] = scaler.transform(test[['close']])"
   ],
   "id": "3201dfd822c71e54",
   "outputs": [],
   "execution_count": null
  },
  {
   "metadata": {},
   "cell_type": "code",
   "source": [
    "TIME_STEPS=30\n",
    "\n",
    "def create_sequences(X, y, time_steps=TIME_STEPS):\n",
    "    Xs, ys = [], []\n",
    "    for i in range(len(X)-time_steps):\n",
    "        Xs.append(X.iloc[i:(i+time_steps)].values)\n",
    "        ys.append(y.iloc[i+time_steps])\n",
    "    \n",
    "    return np.array(Xs), np.array(ys)\n",
    "\n",
    "X_train, y_train = create_sequences(train[['close']], train['close'])\n",
    "X_test, y_test = create_sequences(test[['close']], test['close'])"
   ],
   "id": "8ceac0f277c5b94c",
   "outputs": [],
   "execution_count": null
  },
  {
   "metadata": {},
   "cell_type": "code",
   "source": [
    "print(f'Training shape: {X_train.shape}')\n",
    "\n",
    "print(f'Testing shape: {X_test.shape}')"
   ],
   "id": "f098f6b15f8857e8",
   "outputs": [],
   "execution_count": null
  },
  {
   "metadata": {
    "ExecuteTime": {
     "end_time": "2024-10-14T01:22:04.455773Z",
     "start_time": "2024-10-14T01:22:04.366785Z"
    }
   },
   "cell_type": "code",
   "source": [
    "from tensorflow.keras.models import Sequential\n",
    "from tensorflow.keras.layers import Dense, LSTM, Dropout, RepeatVector, TimeDistributed\n",
    "model = Sequential()\n",
    "model.add(LSTM(128, input_shape=(X_train.shape[1], X_train.shape[2])))\n",
    "model.add(Dropout(rate=0.2))\n",
    "model.add(RepeatVector(X_train.shape[1]))\n",
    "model.add(LSTM(128, return_sequences=True))\n",
    "model.add(Dropout(rate=0.2))\n",
    "model.add(TimeDistributed(Dense(X_train.shape[2])))\n",
    "model.compile(optimizer='adam', loss='mae')\n",
    "model.summary()"
   ],
   "id": "a5d27a24956e0ca",
   "outputs": [
    {
     "ename": "ModuleNotFoundError",
     "evalue": "No module named 'tensorflow'",
     "output_type": "error",
     "traceback": [
      "\u001B[1;31m---------------------------------------------------------------------------\u001B[0m",
      "\u001B[1;31mModuleNotFoundError\u001B[0m                       Traceback (most recent call last)",
      "Cell \u001B[1;32mIn[5], line 1\u001B[0m\n\u001B[1;32m----> 1\u001B[0m \u001B[38;5;28;01mfrom\u001B[39;00m \u001B[38;5;21;01mtensorflow\u001B[39;00m\u001B[38;5;21;01m.\u001B[39;00m\u001B[38;5;21;01mkeras\u001B[39;00m\u001B[38;5;21;01m.\u001B[39;00m\u001B[38;5;21;01mmodels\u001B[39;00m \u001B[38;5;28;01mimport\u001B[39;00m Sequential\n\u001B[0;32m      2\u001B[0m \u001B[38;5;28;01mfrom\u001B[39;00m \u001B[38;5;21;01mtensorflow\u001B[39;00m\u001B[38;5;21;01m.\u001B[39;00m\u001B[38;5;21;01mkeras\u001B[39;00m\u001B[38;5;21;01m.\u001B[39;00m\u001B[38;5;21;01mlayers\u001B[39;00m \u001B[38;5;28;01mimport\u001B[39;00m Dense, LSTM, Dropout, RepeatVector, TimeDistributed\n\u001B[0;32m      3\u001B[0m model \u001B[38;5;241m=\u001B[39m Sequential()\n",
      "\u001B[1;31mModuleNotFoundError\u001B[0m: No module named 'tensorflow'"
     ]
    }
   ],
   "execution_count": 5
  },
  {
   "metadata": {},
   "cell_type": "code",
   "source": [
    "from tensorflow.keras.callbacks import EarlyStopping\n",
    "history = model.fit(X_train, y_train, epochs=100, batch_size=32, validation_split=0.1,\n",
    "                    callbacks=[EarlyStopping(monitor='val_loss', patience=3, mode='min')], shuffle=False)"
   ],
   "id": "178bc0d33c5fcc65",
   "outputs": [],
   "execution_count": null
  },
  {
   "metadata": {},
   "cell_type": "code",
   "source": [
    "plt.plot(history.history['loss'], label='Training loss')\n",
    "plt.plot(history.history['val_loss'], label='Validation loss')\n",
    "plt.legend();"
   ],
   "id": "8781061d7cf99595",
   "outputs": [],
   "execution_count": null
  },
  {
   "metadata": {},
   "cell_type": "code",
   "source": "model.evaluate(X_test, y_test)",
   "id": "608a23ae17377f4c",
   "outputs": [],
   "execution_count": null
  },
  {
   "metadata": {},
   "cell_type": "code",
   "source": [
    "X_train_pred = model.predict(X_train, verbose=0)\n",
    "train_mae_loss = np.mean(np.abs(X_train_pred - X_train), axis=1)\n",
    "\n",
    "plt.hist(train_mae_loss, bins=50)\n",
    "plt.xlabel('Train MAE loss')\n",
    "plt.ylabel('Number of Samples');\n",
    "\n",
    "#threshold = np.max(train_mae_loss)\n",
    "threshold = np.mean(train_mae_loss) + np.std(train_mae_loss)\n",
    "print(f'Reconstruction error threshold: {threshold}')"
   ],
   "id": "947fb99bb0dd3f3e",
   "outputs": [],
   "execution_count": null
  },
  {
   "metadata": {},
   "cell_type": "code",
   "source": [
    "X_test_pred = model.predict(X_test, verbose=0)\n",
    "test_mae_loss = np.mean(np.abs(X_test_pred-X_test), axis=1)\n",
    "\n",
    "plt.hist(test_mae_loss, bins=50)\n",
    "plt.xlabel('Test MAE loss')\n",
    "plt.ylabel('Number of samples');"
   ],
   "id": "8633ee202b67dd1",
   "outputs": [],
   "execution_count": null
  },
  {
   "metadata": {},
   "cell_type": "code",
   "source": [
    "test_score_df = pd.DataFrame(test[TIME_STEPS:])\n",
    "test_score_df['loss'] = test_mae_loss\n",
    "test_score_df['threshold'] = threshold\n",
    "test_score_df['anomaly'] = test_score_df['loss'] > test_score_df['threshold']\n",
    "test_score_df['close'] = test[TIME_STEPS:]['close']"
   ],
   "id": "8a54f7086e1397ac",
   "outputs": [],
   "execution_count": null
  },
  {
   "metadata": {},
   "cell_type": "code",
   "source": "test_score_df.tail()",
   "id": "dff9b905df78f030",
   "outputs": [],
   "execution_count": null
  },
  {
   "metadata": {},
   "cell_type": "code",
   "source": [
    "fig = go.Figure()\n",
    "fig.add_trace(go.Scatter(x=test_score_df['date'], y=test_score_df['loss'], name='Test loss'))\n",
    "fig.add_trace(go.Scatter(x=test_score_df['date'], y=test_score_df['threshold'], name='Threshold'))\n",
    "fig.update_layout(showlegend=True, title='Test loss vs. Threshold')\n",
    "fig.show()"
   ],
   "id": "9e9898a77c91bf91",
   "outputs": [],
   "execution_count": null
  },
  {
   "metadata": {},
   "cell_type": "code",
   "source": [
    "anomalies = test_score_df.loc[test_score_df['anomaly'] == True]\n",
    "anomalies.head()"
   ],
   "id": "696fdefa66ef05af",
   "outputs": [],
   "execution_count": null
  },
  {
   "metadata": {},
   "cell_type": "code",
   "source": "len(anomalies)",
   "id": "fcceab45e6de11c6",
   "outputs": [],
   "execution_count": null
  },
  {
   "metadata": {},
   "cell_type": "code",
   "source": [
    "fig = go.Figure()\n",
    "fig.add_trace(go.Scatter(x=test_score_df['date'], y=scaler.inverse_transform(test_score_df['close']), name='Close price'))\n",
    "fig.add_trace(go.Scatter(x=anomalies['date'], y=scaler.inverse_transform(anomalies['close']).reshape(1,-1), mode='markers', name='Anomaly'))\n",
    "fig.update_layout(showlegend=True, title='Detected anomalies')\n",
    "fig.show()"
   ],
   "id": "edb5c3e1364de1be",
   "outputs": [],
   "execution_count": null
  },
  {
   "metadata": {},
   "cell_type": "code",
   "source": [
    "fig = go.Figure()\n",
    "x=test_score_df['date']\n",
    "y=test_score_df['close']\n",
    "fig.add_trace(go.Scatter(x=x,y=y))\n",
    "fig.show()"
   ],
   "id": "40400618e3ac2fd",
   "outputs": [],
   "execution_count": null
  },
  {
   "metadata": {},
   "cell_type": "code",
   "source": [
    "import streamlit as st\n",
    "st.__version__"
   ],
   "id": "71636a9c831014fc",
   "outputs": [],
   "execution_count": null
  },
  {
   "metadata": {
    "ExecuteTime": {
     "end_time": "2024-10-14T01:21:55.909312Z",
     "start_time": "2024-10-14T01:21:55.894702Z"
    }
   },
   "cell_type": "code",
   "source": [
    "import sys\n",
    "# Get the current Python interpreter path\n",
    "print(f\"Current Python interpreter: {sys.executable}\")\n"
   ],
   "id": "2f8461f2757a4f3",
   "outputs": [
    {
     "name": "stdout",
     "output_type": "stream",
     "text": [
      "Current Python interpreter: C:\\Users\\nisha\\Documents\\PythonProjects\\TradingAnalysis\\venv\\Scripts\\python.exe\n"
     ]
    }
   ],
   "execution_count": 4
  },
  {
   "metadata": {},
   "cell_type": "code",
   "source": "",
   "id": "56b855b80f64f0c5",
   "outputs": [],
   "execution_count": null
  }
 ],
 "metadata": {
  "kernelspec": {
   "display_name": "Python 3 (ipykernel)",
   "language": "python",
   "name": "python3"
  },
  "language_info": {
   "codemirror_mode": {
    "name": "ipython",
    "version": 3
   },
   "file_extension": ".py",
   "mimetype": "text/x-python",
   "name": "python",
   "nbconvert_exporter": "python",
   "pygments_lexer": "ipython3",
   "version": "3.8.20"
  }
 },
 "nbformat": 4,
 "nbformat_minor": 5
}
