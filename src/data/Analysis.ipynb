{
 "cells": [
  {
   "metadata": {
    "ExecuteTime": {
     "end_time": "2024-10-06T22:52:07.525208Z",
     "start_time": "2024-10-06T22:52:07.471185Z"
    }
   },
   "cell_type": "code",
   "source": [
    "import pickle\n",
    "symbol = 'AAPL'\n",
    "\n",
    "def read_pickle_file(file_path):\n",
    "    \"\"\"Reads a pickle file and returns its contents.\n",
    "\n",
    "    Args:\n",
    "        file_path (str): The path to the pickle file.\n",
    "\n",
    "    Returns:\n",
    "        The contents of the pickle file.\n",
    "    \"\"\"\n",
    "\n",
    "    try:\n",
    "        with open(file_path, 'rb') as f:\n",
    "            data = pickle.load(f)\n",
    "        return data\n",
    "    except FileNotFoundError:\n",
    "        print(f\"Error: Pickle file '{file_path}' not found.\")\n",
    "        return None\n",
    "    except Exception as e:\n",
    "        print(f\"Error reading pickle file: {e}\")\n",
    "        return None\n",
    "\n",
    "# Example usage:\n",
    "file_path = r\"C:\\Users\\nisha\\Documents\\PythonProjects\\TradingAnalysis\\src\\data\\pickle\\historical_data_minute.pkl\"\n",
    "data = read_pickle_file(file_path)\n",
    "symbol='AAPL'\n",
    "data=data[data['symbol']==symbol]\n",
    "\n",
    "if data is not None:\n",
    "    # Process the data\n",
    "    print(f'Number of rows in dataset is {len(data)}')\n",
    "else:\n",
    "    print(\"Failed to read the pickle file.\")"
   ],
   "id": "d82ef80249afb1d3",
   "outputs": [
    {
     "name": "stdout",
     "output_type": "stream",
     "text": [
      "Number of rows in dataset is 145822\n"
     ]
    }
   ],
   "execution_count": 2
  },
  {
   "metadata": {
    "ExecuteTime": {
     "end_time": "2024-10-06T23:10:11.111855Z",
     "start_time": "2024-10-06T23:10:11.104854Z"
    }
   },
   "cell_type": "code",
   "source": "data.index",
   "id": "38de26378a23a8c1",
   "outputs": [
    {
     "data": {
      "text/plain": [
       "DatetimeIndex(['2024-01-02 09:00:00+00:00', '2024-01-02 09:01:00+00:00',\n",
       "               '2024-01-02 09:02:00+00:00', '2024-01-02 09:03:00+00:00',\n",
       "               '2024-01-02 09:04:00+00:00', '2024-01-02 09:05:00+00:00',\n",
       "               '2024-01-02 09:06:00+00:00', '2024-01-02 09:07:00+00:00',\n",
       "               '2024-01-02 09:08:00+00:00', '2024-01-02 09:09:00+00:00',\n",
       "               ...\n",
       "               '2024-10-04 23:41:00+00:00', '2024-10-04 23:42:00+00:00',\n",
       "               '2024-10-04 23:44:00+00:00', '2024-10-04 23:47:00+00:00',\n",
       "               '2024-10-04 23:52:00+00:00', '2024-10-04 23:53:00+00:00',\n",
       "               '2024-10-04 23:54:00+00:00', '2024-10-04 23:55:00+00:00',\n",
       "               '2024-10-04 23:56:00+00:00', '2024-10-04 23:59:00+00:00'],\n",
       "              dtype='datetime64[ns, UTC]', name='timestamp', length=145822, freq=None)"
      ]
     },
     "execution_count": 8,
     "metadata": {},
     "output_type": "execute_result"
    }
   ],
   "execution_count": 8
  },
  {
   "metadata": {
    "ExecuteTime": {
     "end_time": "2024-10-06T23:13:15.162031Z",
     "start_time": "2024-10-06T23:13:15.122495Z"
    }
   },
   "cell_type": "code",
   "source": [
    "import pandas as pd\n",
    "last_row_for_day = data[data.index.date == pd.to_datetime('2024-10-04').date()].iloc[-1]\n",
    "\n",
    "print(last_row_for_day)"
   ],
   "id": "44ef856dda5bb954",
   "outputs": [
    {
     "name": "stdout",
     "output_type": "stream",
     "text": [
      "open            226.3745\n",
      "high            226.3745\n",
      "low             226.3745\n",
      "close           226.3745\n",
      "volume             266.0\n",
      "trade_count         16.0\n",
      "vwap           226.38985\n",
      "symbol              AAPL\n",
      "Name: 2024-10-04 23:59:00+00:00, dtype: object\n"
     ]
    }
   ],
   "execution_count": 9
  },
  {
   "metadata": {
    "ExecuteTime": {
     "end_time": "2024-10-06T23:28:38.996301Z",
     "start_time": "2024-10-06T23:28:37.720761Z"
    }
   },
   "cell_type": "code",
   "source": [
    "def slice_by_last_price(df):\n",
    "  \"\"\"Slices a DataFrame of stock data based on the last price of the day.\n",
    "\n",
    "  Args:\n",
    "    df: A pandas DataFrame with a datetime index and a column for the closing price.\n",
    "\n",
    "  Returns:\n",
    "    A new DataFrame containing only the rows corresponding to the last trade of each day.\n",
    "  \"\"\"\n",
    "\n",
    "  # Ensure the index is sorted by datetime\n",
    "  df = df.sort_index()\n",
    "\n",
    "  # Extract the date from the index\n",
    "  df['Date'] = df.index.date\n",
    "\n",
    "  # Group by date and get the last row of each group\n",
    "  sliced_df = df.groupby('Date').last()\n",
    "\n",
    "  # Drop the 'Date' column\n",
    "  sliced_df = sliced_df.drop(columns='Date')\n",
    "\n",
    "  return sliced_df\n",
    "\n",
    "# Example usage\n",
    "# Assuming your DataFrame is named 'stock_data'\n",
    "sliced_data = slice_by_last_price(data)"
   ],
   "id": "6834762f11cedfbd",
   "outputs": [
    {
     "ename": "KeyError",
     "evalue": "\"['Date'] not found in axis\"",
     "output_type": "error",
     "traceback": [
      "\u001B[1;31m---------------------------------------------------------------------------\u001B[0m",
      "\u001B[1;31mKeyError\u001B[0m                                  Traceback (most recent call last)",
      "Cell \u001B[1;32mIn[10], line 27\u001B[0m\n\u001B[0;32m     23\u001B[0m   \u001B[38;5;28;01mreturn\u001B[39;00m sliced_df\n\u001B[0;32m     25\u001B[0m \u001B[38;5;66;03m# Example usage\u001B[39;00m\n\u001B[0;32m     26\u001B[0m \u001B[38;5;66;03m# Assuming your DataFrame is named 'stock_data'\u001B[39;00m\n\u001B[1;32m---> 27\u001B[0m sliced_data \u001B[38;5;241m=\u001B[39m \u001B[43mslice_by_last_price\u001B[49m\u001B[43m(\u001B[49m\u001B[43mdata\u001B[49m\u001B[43m)\u001B[49m\n",
      "Cell \u001B[1;32mIn[10], line 21\u001B[0m, in \u001B[0;36mslice_by_last_price\u001B[1;34m(df)\u001B[0m\n\u001B[0;32m     18\u001B[0m sliced_df \u001B[38;5;241m=\u001B[39m df\u001B[38;5;241m.\u001B[39mgroupby(\u001B[38;5;124m'\u001B[39m\u001B[38;5;124mDate\u001B[39m\u001B[38;5;124m'\u001B[39m)\u001B[38;5;241m.\u001B[39mlast()\n\u001B[0;32m     20\u001B[0m \u001B[38;5;66;03m# Drop the 'Date' column\u001B[39;00m\n\u001B[1;32m---> 21\u001B[0m sliced_df \u001B[38;5;241m=\u001B[39m \u001B[43msliced_df\u001B[49m\u001B[38;5;241;43m.\u001B[39;49m\u001B[43mdrop\u001B[49m\u001B[43m(\u001B[49m\u001B[43mcolumns\u001B[49m\u001B[38;5;241;43m=\u001B[39;49m\u001B[38;5;124;43m'\u001B[39;49m\u001B[38;5;124;43mDate\u001B[39;49m\u001B[38;5;124;43m'\u001B[39;49m\u001B[43m)\u001B[49m\n\u001B[0;32m     23\u001B[0m \u001B[38;5;28;01mreturn\u001B[39;00m sliced_df\n",
      "File \u001B[1;32m~\\Documents\\PythonProjects\\TradingAnalysis\\venv\\lib\\site-packages\\pandas\\core\\frame.py:5581\u001B[0m, in \u001B[0;36mDataFrame.drop\u001B[1;34m(self, labels, axis, index, columns, level, inplace, errors)\u001B[0m\n\u001B[0;32m   5433\u001B[0m \u001B[38;5;28;01mdef\u001B[39;00m \u001B[38;5;21mdrop\u001B[39m(\n\u001B[0;32m   5434\u001B[0m     \u001B[38;5;28mself\u001B[39m,\n\u001B[0;32m   5435\u001B[0m     labels: IndexLabel \u001B[38;5;241m|\u001B[39m \u001B[38;5;28;01mNone\u001B[39;00m \u001B[38;5;241m=\u001B[39m \u001B[38;5;28;01mNone\u001B[39;00m,\n\u001B[1;32m   (...)\u001B[0m\n\u001B[0;32m   5442\u001B[0m     errors: IgnoreRaise \u001B[38;5;241m=\u001B[39m \u001B[38;5;124m\"\u001B[39m\u001B[38;5;124mraise\u001B[39m\u001B[38;5;124m\"\u001B[39m,\n\u001B[0;32m   5443\u001B[0m ) \u001B[38;5;241m-\u001B[39m\u001B[38;5;241m>\u001B[39m DataFrame \u001B[38;5;241m|\u001B[39m \u001B[38;5;28;01mNone\u001B[39;00m:\n\u001B[0;32m   5444\u001B[0m \u001B[38;5;250m    \u001B[39m\u001B[38;5;124;03m\"\"\"\u001B[39;00m\n\u001B[0;32m   5445\u001B[0m \u001B[38;5;124;03m    Drop specified labels from rows or columns.\u001B[39;00m\n\u001B[0;32m   5446\u001B[0m \n\u001B[1;32m   (...)\u001B[0m\n\u001B[0;32m   5579\u001B[0m \u001B[38;5;124;03m            weight  1.0     0.8\u001B[39;00m\n\u001B[0;32m   5580\u001B[0m \u001B[38;5;124;03m    \"\"\"\u001B[39;00m\n\u001B[1;32m-> 5581\u001B[0m     \u001B[38;5;28;01mreturn\u001B[39;00m \u001B[38;5;28;43msuper\u001B[39;49m\u001B[43m(\u001B[49m\u001B[43m)\u001B[49m\u001B[38;5;241;43m.\u001B[39;49m\u001B[43mdrop\u001B[49m\u001B[43m(\u001B[49m\n\u001B[0;32m   5582\u001B[0m \u001B[43m        \u001B[49m\u001B[43mlabels\u001B[49m\u001B[38;5;241;43m=\u001B[39;49m\u001B[43mlabels\u001B[49m\u001B[43m,\u001B[49m\n\u001B[0;32m   5583\u001B[0m \u001B[43m        \u001B[49m\u001B[43maxis\u001B[49m\u001B[38;5;241;43m=\u001B[39;49m\u001B[43maxis\u001B[49m\u001B[43m,\u001B[49m\n\u001B[0;32m   5584\u001B[0m \u001B[43m        \u001B[49m\u001B[43mindex\u001B[49m\u001B[38;5;241;43m=\u001B[39;49m\u001B[43mindex\u001B[49m\u001B[43m,\u001B[49m\n\u001B[0;32m   5585\u001B[0m \u001B[43m        \u001B[49m\u001B[43mcolumns\u001B[49m\u001B[38;5;241;43m=\u001B[39;49m\u001B[43mcolumns\u001B[49m\u001B[43m,\u001B[49m\n\u001B[0;32m   5586\u001B[0m \u001B[43m        \u001B[49m\u001B[43mlevel\u001B[49m\u001B[38;5;241;43m=\u001B[39;49m\u001B[43mlevel\u001B[49m\u001B[43m,\u001B[49m\n\u001B[0;32m   5587\u001B[0m \u001B[43m        \u001B[49m\u001B[43minplace\u001B[49m\u001B[38;5;241;43m=\u001B[39;49m\u001B[43minplace\u001B[49m\u001B[43m,\u001B[49m\n\u001B[0;32m   5588\u001B[0m \u001B[43m        \u001B[49m\u001B[43merrors\u001B[49m\u001B[38;5;241;43m=\u001B[39;49m\u001B[43merrors\u001B[49m\u001B[43m,\u001B[49m\n\u001B[0;32m   5589\u001B[0m \u001B[43m    \u001B[49m\u001B[43m)\u001B[49m\n",
      "File \u001B[1;32m~\\Documents\\PythonProjects\\TradingAnalysis\\venv\\lib\\site-packages\\pandas\\core\\generic.py:4788\u001B[0m, in \u001B[0;36mNDFrame.drop\u001B[1;34m(self, labels, axis, index, columns, level, inplace, errors)\u001B[0m\n\u001B[0;32m   4786\u001B[0m \u001B[38;5;28;01mfor\u001B[39;00m axis, labels \u001B[38;5;129;01min\u001B[39;00m axes\u001B[38;5;241m.\u001B[39mitems():\n\u001B[0;32m   4787\u001B[0m     \u001B[38;5;28;01mif\u001B[39;00m labels \u001B[38;5;129;01mis\u001B[39;00m \u001B[38;5;129;01mnot\u001B[39;00m \u001B[38;5;28;01mNone\u001B[39;00m:\n\u001B[1;32m-> 4788\u001B[0m         obj \u001B[38;5;241m=\u001B[39m \u001B[43mobj\u001B[49m\u001B[38;5;241;43m.\u001B[39;49m\u001B[43m_drop_axis\u001B[49m\u001B[43m(\u001B[49m\u001B[43mlabels\u001B[49m\u001B[43m,\u001B[49m\u001B[43m \u001B[49m\u001B[43maxis\u001B[49m\u001B[43m,\u001B[49m\u001B[43m \u001B[49m\u001B[43mlevel\u001B[49m\u001B[38;5;241;43m=\u001B[39;49m\u001B[43mlevel\u001B[49m\u001B[43m,\u001B[49m\u001B[43m \u001B[49m\u001B[43merrors\u001B[49m\u001B[38;5;241;43m=\u001B[39;49m\u001B[43merrors\u001B[49m\u001B[43m)\u001B[49m\n\u001B[0;32m   4790\u001B[0m \u001B[38;5;28;01mif\u001B[39;00m inplace:\n\u001B[0;32m   4791\u001B[0m     \u001B[38;5;28mself\u001B[39m\u001B[38;5;241m.\u001B[39m_update_inplace(obj)\n",
      "File \u001B[1;32m~\\Documents\\PythonProjects\\TradingAnalysis\\venv\\lib\\site-packages\\pandas\\core\\generic.py:4830\u001B[0m, in \u001B[0;36mNDFrame._drop_axis\u001B[1;34m(self, labels, axis, level, errors, only_slice)\u001B[0m\n\u001B[0;32m   4828\u001B[0m         new_axis \u001B[38;5;241m=\u001B[39m axis\u001B[38;5;241m.\u001B[39mdrop(labels, level\u001B[38;5;241m=\u001B[39mlevel, errors\u001B[38;5;241m=\u001B[39merrors)\n\u001B[0;32m   4829\u001B[0m     \u001B[38;5;28;01melse\u001B[39;00m:\n\u001B[1;32m-> 4830\u001B[0m         new_axis \u001B[38;5;241m=\u001B[39m \u001B[43maxis\u001B[49m\u001B[38;5;241;43m.\u001B[39;49m\u001B[43mdrop\u001B[49m\u001B[43m(\u001B[49m\u001B[43mlabels\u001B[49m\u001B[43m,\u001B[49m\u001B[43m \u001B[49m\u001B[43merrors\u001B[49m\u001B[38;5;241;43m=\u001B[39;49m\u001B[43merrors\u001B[49m\u001B[43m)\u001B[49m\n\u001B[0;32m   4831\u001B[0m     indexer \u001B[38;5;241m=\u001B[39m axis\u001B[38;5;241m.\u001B[39mget_indexer(new_axis)\n\u001B[0;32m   4833\u001B[0m \u001B[38;5;66;03m# Case for non-unique axis\u001B[39;00m\n\u001B[0;32m   4834\u001B[0m \u001B[38;5;28;01melse\u001B[39;00m:\n",
      "File \u001B[1;32m~\\Documents\\PythonProjects\\TradingAnalysis\\venv\\lib\\site-packages\\pandas\\core\\indexes\\base.py:7070\u001B[0m, in \u001B[0;36mIndex.drop\u001B[1;34m(self, labels, errors)\u001B[0m\n\u001B[0;32m   7068\u001B[0m \u001B[38;5;28;01mif\u001B[39;00m mask\u001B[38;5;241m.\u001B[39many():\n\u001B[0;32m   7069\u001B[0m     \u001B[38;5;28;01mif\u001B[39;00m errors \u001B[38;5;241m!=\u001B[39m \u001B[38;5;124m\"\u001B[39m\u001B[38;5;124mignore\u001B[39m\u001B[38;5;124m\"\u001B[39m:\n\u001B[1;32m-> 7070\u001B[0m         \u001B[38;5;28;01mraise\u001B[39;00m \u001B[38;5;167;01mKeyError\u001B[39;00m(\u001B[38;5;124mf\u001B[39m\u001B[38;5;124m\"\u001B[39m\u001B[38;5;132;01m{\u001B[39;00mlabels[mask]\u001B[38;5;241m.\u001B[39mtolist()\u001B[38;5;132;01m}\u001B[39;00m\u001B[38;5;124m not found in axis\u001B[39m\u001B[38;5;124m\"\u001B[39m)\n\u001B[0;32m   7071\u001B[0m     indexer \u001B[38;5;241m=\u001B[39m indexer[\u001B[38;5;241m~\u001B[39mmask]\n\u001B[0;32m   7072\u001B[0m \u001B[38;5;28;01mreturn\u001B[39;00m \u001B[38;5;28mself\u001B[39m\u001B[38;5;241m.\u001B[39mdelete(indexer)\n",
      "\u001B[1;31mKeyError\u001B[0m: \"['Date'] not found in axis\""
     ]
    }
   ],
   "execution_count": 10
  },
  {
   "metadata": {
    "ExecuteTime": {
     "end_time": "2024-10-06T23:30:57.301451Z",
     "start_time": "2024-10-06T23:30:57.240623Z"
    }
   },
   "cell_type": "code",
   "source": [
    "data = data.sort_index()\n",
    "data['Date'] = data.index.date\n",
    "sliced_df =data.groupby('Date').last()\n",
    "sliced_df.head(5)"
   ],
   "id": "b69d32b3adb27c95",
   "outputs": [
    {
     "data": {
      "text/plain": [
       "                open      high       low     close  volume  trade_count  \\\n",
       "Date                                                                      \n",
       "2024-01-02  185.3081  185.3081  185.3081  185.3081   533.0         19.0   \n",
       "2024-01-03  184.2001  184.2900  184.2000  184.2900  1458.0         26.0   \n",
       "2024-01-04  181.8800  181.8800  181.8800  181.8800   302.0         15.0   \n",
       "2024-01-05  180.8300  180.8300  180.8300  180.8300   728.0         16.0   \n",
       "2024-01-06  180.7800  180.7800  180.7500  180.7800  2149.0         41.0   \n",
       "\n",
       "                  vwap symbol  \n",
       "Date                           \n",
       "2024-01-02  185.298368   AAPL  \n",
       "2024-01-03  184.223910   AAPL  \n",
       "2024-01-04  181.877848   AAPL  \n",
       "2024-01-05  180.831992   AAPL  \n",
       "2024-01-06  180.760707   AAPL  "
      ],
      "text/html": [
       "<div>\n",
       "<style scoped>\n",
       "    .dataframe tbody tr th:only-of-type {\n",
       "        vertical-align: middle;\n",
       "    }\n",
       "\n",
       "    .dataframe tbody tr th {\n",
       "        vertical-align: top;\n",
       "    }\n",
       "\n",
       "    .dataframe thead th {\n",
       "        text-align: right;\n",
       "    }\n",
       "</style>\n",
       "<table border=\"1\" class=\"dataframe\">\n",
       "  <thead>\n",
       "    <tr style=\"text-align: right;\">\n",
       "      <th></th>\n",
       "      <th>open</th>\n",
       "      <th>high</th>\n",
       "      <th>low</th>\n",
       "      <th>close</th>\n",
       "      <th>volume</th>\n",
       "      <th>trade_count</th>\n",
       "      <th>vwap</th>\n",
       "      <th>symbol</th>\n",
       "    </tr>\n",
       "    <tr>\n",
       "      <th>Date</th>\n",
       "      <th></th>\n",
       "      <th></th>\n",
       "      <th></th>\n",
       "      <th></th>\n",
       "      <th></th>\n",
       "      <th></th>\n",
       "      <th></th>\n",
       "      <th></th>\n",
       "    </tr>\n",
       "  </thead>\n",
       "  <tbody>\n",
       "    <tr>\n",
       "      <th>2024-01-02</th>\n",
       "      <td>185.3081</td>\n",
       "      <td>185.3081</td>\n",
       "      <td>185.3081</td>\n",
       "      <td>185.3081</td>\n",
       "      <td>533.0</td>\n",
       "      <td>19.0</td>\n",
       "      <td>185.298368</td>\n",
       "      <td>AAPL</td>\n",
       "    </tr>\n",
       "    <tr>\n",
       "      <th>2024-01-03</th>\n",
       "      <td>184.2001</td>\n",
       "      <td>184.2900</td>\n",
       "      <td>184.2000</td>\n",
       "      <td>184.2900</td>\n",
       "      <td>1458.0</td>\n",
       "      <td>26.0</td>\n",
       "      <td>184.223910</td>\n",
       "      <td>AAPL</td>\n",
       "    </tr>\n",
       "    <tr>\n",
       "      <th>2024-01-04</th>\n",
       "      <td>181.8800</td>\n",
       "      <td>181.8800</td>\n",
       "      <td>181.8800</td>\n",
       "      <td>181.8800</td>\n",
       "      <td>302.0</td>\n",
       "      <td>15.0</td>\n",
       "      <td>181.877848</td>\n",
       "      <td>AAPL</td>\n",
       "    </tr>\n",
       "    <tr>\n",
       "      <th>2024-01-05</th>\n",
       "      <td>180.8300</td>\n",
       "      <td>180.8300</td>\n",
       "      <td>180.8300</td>\n",
       "      <td>180.8300</td>\n",
       "      <td>728.0</td>\n",
       "      <td>16.0</td>\n",
       "      <td>180.831992</td>\n",
       "      <td>AAPL</td>\n",
       "    </tr>\n",
       "    <tr>\n",
       "      <th>2024-01-06</th>\n",
       "      <td>180.7800</td>\n",
       "      <td>180.7800</td>\n",
       "      <td>180.7500</td>\n",
       "      <td>180.7800</td>\n",
       "      <td>2149.0</td>\n",
       "      <td>41.0</td>\n",
       "      <td>180.760707</td>\n",
       "      <td>AAPL</td>\n",
       "    </tr>\n",
       "  </tbody>\n",
       "</table>\n",
       "</div>"
      ]
     },
     "execution_count": 14,
     "metadata": {},
     "output_type": "execute_result"
    }
   ],
   "execution_count": 14
  },
  {
   "metadata": {},
   "cell_type": "code",
   "outputs": [],
   "execution_count": null,
   "source": "",
   "id": "aee7b0fe24ed208e"
  }
 ],
 "metadata": {
  "kernelspec": {
   "display_name": "Python 3",
   "language": "python",
   "name": "python3"
  },
  "language_info": {
   "codemirror_mode": {
    "name": "ipython",
    "version": 2
   },
   "file_extension": ".py",
   "mimetype": "text/x-python",
   "name": "python",
   "nbconvert_exporter": "python",
   "pygments_lexer": "ipython2",
   "version": "2.7.6"
  }
 },
 "nbformat": 4,
 "nbformat_minor": 5
}
