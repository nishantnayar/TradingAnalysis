{
 "cells": [
  {
   "metadata": {
    "ExecuteTime": {
     "end_time": "2024-10-07T02:10:08.462864Z",
     "start_time": "2024-10-07T02:10:08.419495Z"
    }
   },
   "cell_type": "code",
   "source": [
    "import pickle\n",
    "\n",
    "def read_pickle_file(file_path):\n",
    "    \"\"\"Reads a pickle file and returns its contents.\n",
    "\n",
    "    Args:\n",
    "        file_path (str): The path to the pickle file.\n",
    "\n",
    "    Returns:\n",
    "        The contents of the pickle file.\n",
    "    \"\"\"\n",
    "\n",
    "    try:\n",
    "        with open(file_path, 'rb') as f:\n",
    "            data = pickle.load(f)\n",
    "        return data\n",
    "    except FileNotFoundError:\n",
    "        print(f\"Error: Pickle file '{file_path}' not found.\")\n",
    "        return None\n",
    "    except Exception as e:\n",
    "        print(f\"Error reading pickle file: {e}\")\n",
    "        return None\n",
    "\n",
    "# Example usage:\n",
    "file_path = r\"C:\\Users\\nisha\\Documents\\PythonProjects\\TradingAnalysis\\src\\data\\pickle\\historical_data_minute.pkl\"\n",
    "data = read_pickle_file(file_path)\n",
    "#symbol='AAPL'\n",
    "#data=data[data['symbol']==symbol]\n",
    "\n",
    "if data is not None:\n",
    "    # Process the data\n",
    "    print(f'Number of rows in dataset is {len(data)}')\n",
    "else:\n",
    "    print(\"Failed to read the pickle file.\")"
   ],
   "id": "d82ef80249afb1d3",
   "outputs": [
    {
     "name": "stdout",
     "output_type": "stream",
     "text": [
      "Number of rows in dataset is 5705\n"
     ]
    }
   ],
   "execution_count": 15
  },
  {
   "metadata": {
    "ExecuteTime": {
     "end_time": "2024-10-07T02:10:09.263205Z",
     "start_time": "2024-10-07T02:10:09.247642Z"
    }
   },
   "cell_type": "code",
   "source": "data['symbol'].value_counts()",
   "id": "6856f230790af0db",
   "outputs": [
    {
     "data": {
      "text/plain": [
       "symbol\n",
       "MU     2912\n",
       "AMD    2793\n",
       "Name: count, dtype: int64"
      ]
     },
     "execution_count": 16,
     "metadata": {},
     "output_type": "execute_result"
    }
   ],
   "execution_count": 16
  },
  {
   "metadata": {
    "ExecuteTime": {
     "end_time": "2024-10-07T02:10:19.545985Z",
     "start_time": "2024-10-07T02:10:19.523380Z"
    }
   },
   "cell_type": "code",
   "source": "data.head(5)",
   "id": "712c2db5b140f03e",
   "outputs": [
    {
     "data": {
      "text/plain": [
       "                             open    high     low   close  volume  \\\n",
       "timestamp                                                           \n",
       "2024-10-01 08:00:00+00:00  164.08  164.12  163.81  163.81  1562.0   \n",
       "2024-10-01 08:01:00+00:00  163.77  163.77  163.77  163.77   721.0   \n",
       "2024-10-01 08:02:00+00:00  164.00  164.00  164.00  164.00   115.0   \n",
       "2024-10-01 08:04:00+00:00  164.02  164.02  164.02  164.02   141.0   \n",
       "2024-10-01 08:08:00+00:00  164.10  164.10  164.10  164.10   796.0   \n",
       "\n",
       "                           trade_count        vwap symbol  \n",
       "timestamp                                                  \n",
       "2024-10-01 08:00:00+00:00         29.0  163.973905    AMD  \n",
       "2024-10-01 08:01:00+00:00         17.0  163.829792    AMD  \n",
       "2024-10-01 08:02:00+00:00          6.0  164.000522    AMD  \n",
       "2024-10-01 08:04:00+00:00          8.0  164.042979    AMD  \n",
       "2024-10-01 08:08:00+00:00         19.0  164.099749    AMD  "
      ],
      "text/html": [
       "<div>\n",
       "<style scoped>\n",
       "    .dataframe tbody tr th:only-of-type {\n",
       "        vertical-align: middle;\n",
       "    }\n",
       "\n",
       "    .dataframe tbody tr th {\n",
       "        vertical-align: top;\n",
       "    }\n",
       "\n",
       "    .dataframe thead th {\n",
       "        text-align: right;\n",
       "    }\n",
       "</style>\n",
       "<table border=\"1\" class=\"dataframe\">\n",
       "  <thead>\n",
       "    <tr style=\"text-align: right;\">\n",
       "      <th></th>\n",
       "      <th>open</th>\n",
       "      <th>high</th>\n",
       "      <th>low</th>\n",
       "      <th>close</th>\n",
       "      <th>volume</th>\n",
       "      <th>trade_count</th>\n",
       "      <th>vwap</th>\n",
       "      <th>symbol</th>\n",
       "    </tr>\n",
       "    <tr>\n",
       "      <th>timestamp</th>\n",
       "      <th></th>\n",
       "      <th></th>\n",
       "      <th></th>\n",
       "      <th></th>\n",
       "      <th></th>\n",
       "      <th></th>\n",
       "      <th></th>\n",
       "      <th></th>\n",
       "    </tr>\n",
       "  </thead>\n",
       "  <tbody>\n",
       "    <tr>\n",
       "      <th>2024-10-01 08:00:00+00:00</th>\n",
       "      <td>164.08</td>\n",
       "      <td>164.12</td>\n",
       "      <td>163.81</td>\n",
       "      <td>163.81</td>\n",
       "      <td>1562.0</td>\n",
       "      <td>29.0</td>\n",
       "      <td>163.973905</td>\n",
       "      <td>AMD</td>\n",
       "    </tr>\n",
       "    <tr>\n",
       "      <th>2024-10-01 08:01:00+00:00</th>\n",
       "      <td>163.77</td>\n",
       "      <td>163.77</td>\n",
       "      <td>163.77</td>\n",
       "      <td>163.77</td>\n",
       "      <td>721.0</td>\n",
       "      <td>17.0</td>\n",
       "      <td>163.829792</td>\n",
       "      <td>AMD</td>\n",
       "    </tr>\n",
       "    <tr>\n",
       "      <th>2024-10-01 08:02:00+00:00</th>\n",
       "      <td>164.00</td>\n",
       "      <td>164.00</td>\n",
       "      <td>164.00</td>\n",
       "      <td>164.00</td>\n",
       "      <td>115.0</td>\n",
       "      <td>6.0</td>\n",
       "      <td>164.000522</td>\n",
       "      <td>AMD</td>\n",
       "    </tr>\n",
       "    <tr>\n",
       "      <th>2024-10-01 08:04:00+00:00</th>\n",
       "      <td>164.02</td>\n",
       "      <td>164.02</td>\n",
       "      <td>164.02</td>\n",
       "      <td>164.02</td>\n",
       "      <td>141.0</td>\n",
       "      <td>8.0</td>\n",
       "      <td>164.042979</td>\n",
       "      <td>AMD</td>\n",
       "    </tr>\n",
       "    <tr>\n",
       "      <th>2024-10-01 08:08:00+00:00</th>\n",
       "      <td>164.10</td>\n",
       "      <td>164.10</td>\n",
       "      <td>164.10</td>\n",
       "      <td>164.10</td>\n",
       "      <td>796.0</td>\n",
       "      <td>19.0</td>\n",
       "      <td>164.099749</td>\n",
       "      <td>AMD</td>\n",
       "    </tr>\n",
       "  </tbody>\n",
       "</table>\n",
       "</div>"
      ]
     },
     "execution_count": 17,
     "metadata": {},
     "output_type": "execute_result"
    }
   ],
   "execution_count": 17
  },
  {
   "metadata": {
    "ExecuteTime": {
     "end_time": "2024-10-07T01:59:47.499396Z",
     "start_time": "2024-10-07T01:59:47.483701Z"
    }
   },
   "cell_type": "code",
   "source": "",
   "id": "c004874fe5dbf5f2",
   "outputs": [],
   "execution_count": 6
  }
 ],
 "metadata": {
  "kernelspec": {
   "display_name": "Python 3",
   "language": "python",
   "name": "python3"
  },
  "language_info": {
   "codemirror_mode": {
    "name": "ipython",
    "version": 2
   },
   "file_extension": ".py",
   "mimetype": "text/x-python",
   "name": "python",
   "nbconvert_exporter": "python",
   "pygments_lexer": "ipython2",
   "version": "2.7.6"
  }
 },
 "nbformat": 4,
 "nbformat_minor": 5
}
