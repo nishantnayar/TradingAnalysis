{
 "cells": [
  {
   "metadata": {},
   "cell_type": "raw",
   "source": [
    "import yfinance as yf\n",
    "import pandas as pd\n",
    "tickers = yf.Tickers('msft aapl goog')\n",
    "\n",
    "msft = tickers.tickers['MSFT'].info\n",
    "\n",
    "final = msft.pop('companyOfficers', None)"
   ],
   "id": "3d61835b7565bafb"
  },
  {
   "metadata": {},
   "cell_type": "raw",
   "source": [
    "msft_df = pd.DataFrame.from_dict(msft, orient='index').transpose()\n",
    "msft_df.head(15)"
   ],
   "id": "b4bbabf8d2555264"
  },
  {
   "metadata": {},
   "cell_type": "raw",
   "source": [
    "final_df = pd.DataFrame(final)\n",
    "final_df.head(15)"
   ],
   "id": "76be1af7b86a943a"
  },
  {
   "metadata": {
    "ExecuteTime": {
     "end_time": "2024-11-11T15:29:27.859722Z",
     "start_time": "2024-11-11T15:29:27.842609Z"
    }
   },
   "cell_type": "code",
   "source": [
    "import psycopg2\n",
    "import pandas as pd\n",
    "import numpy as np\n",
    "import statsmodels.api as sm\n",
    "from statsmodels.tsa.stattools import adfuller\n",
    "\n",
    "# Define connection parameters\n",
    "db_params = {\n",
    "    'dbname': 'pairs_trading',\n",
    "    'user': 'postgres',\n",
    "    'password': 'nishant',\n",
    "    'host': 'localhost',\n",
    "    'port': '5432'\n",
    "}\n",
    "\n",
    "print(db_params)\n"
   ],
   "id": "cc2f6f0d594fdc5f",
   "outputs": [
    {
     "name": "stdout",
     "output_type": "stream",
     "text": [
      "{'dbname': 'pairs_trading', 'user': 'postgres', 'password': 'nishant', 'host': 'localhost', 'port': '5432'}\n"
     ]
    }
   ],
   "execution_count": 77
  },
  {
   "metadata": {
    "ExecuteTime": {
     "end_time": "2024-11-11T15:29:30.230245Z",
     "start_time": "2024-11-11T15:29:27.861722Z"
    }
   },
   "cell_type": "code",
   "source": [
    "# Establish connection\n",
    "conn = None\n",
    "try:\n",
    "    conn = psycopg2.connect(**db_params)\n",
    "    print(\"Connected to PostgreSQL database.\")\n",
    "    \n",
    "    # Run the query and save the result in a DataFrame\n",
    "    query = \"SELECT symbol, timestamp, close FROM alpaca_data_hourly;\"\n",
    "    df = pd.read_sql_query(query, conn)\n",
    "    # print(df)  # Display the DataFrame\n",
    "except psycopg2.DatabaseError as e:\n",
    "    print(f\"Database connection failed: {e}\")\n",
    "finally:\n",
    "    if conn:\n",
    "        conn.close()\n",
    "        print(\"Database connection closed.\")"
   ],
   "id": "fbbb31a019b6a43e",
   "outputs": [
    {
     "name": "stdout",
     "output_type": "stream",
     "text": [
      "Connected to PostgreSQL database.\n"
     ]
    },
    {
     "name": "stderr",
     "output_type": "stream",
     "text": [
      "C:\\Users\\nisha\\AppData\\Local\\Temp\\ipykernel_7292\\1808271386.py:9: UserWarning: pandas only supports SQLAlchemy connectable (engine/connection) or database string URI or sqlite3 DBAPI2 connection. Other DBAPI2 objects are not tested. Please consider using SQLAlchemy.\n",
      "  df = pd.read_sql_query(query, conn)\n"
     ]
    },
    {
     "name": "stdout",
     "output_type": "stream",
     "text": [
      "Database connection closed.\n"
     ]
    }
   ],
   "execution_count": 78
  },
  {
   "metadata": {
    "ExecuteTime": {
     "end_time": "2024-11-11T15:29:30.373212Z",
     "start_time": "2024-11-11T15:29:30.232246Z"
    }
   },
   "cell_type": "code",
   "source": [
    "# for analysis lets take the following stocks\n",
    "# ['AMD', 'META', 'NVDA', 'TSLA']\n",
    "\n",
    "filtered_df_amd = df[df['symbol'].isin(['AMD'])]\n",
    "filtered_df_meta = df[df['symbol'].isin(['META'])]\n",
    "print (len(filtered_df_amd))\n",
    "print (len(filtered_df_meta))"
   ],
   "id": "26e6b7cc99af6b4c",
   "outputs": [
    {
     "name": "stdout",
     "output_type": "stream",
     "text": [
      "3469\n",
      "3453\n"
     ]
    }
   ],
   "execution_count": 79
  },
  {
   "metadata": {
    "ExecuteTime": {
     "end_time": "2024-11-11T15:29:30.388205Z",
     "start_time": "2024-11-11T15:29:30.374204Z"
    }
   },
   "cell_type": "code",
   "source": [
    "import pandas as pd\n",
    "\n",
    "# Assuming 'common_column' is the name of the common column\n",
    "common_column = 'timestamp'\n",
    "\n",
    "# Identify rows in each DataFrame that are present in the other\n",
    "rows_in_amd_also_in_meta = filtered_df_amd[common_column].isin(filtered_df_meta[common_column])\n",
    "rows_in_meta_also_in_amd = filtered_df_meta[common_column].isin(filtered_df_amd[common_column])\n",
    "\n",
    "# Filter the DataFrames to keep only the common rows\n",
    "filtered_df_amd = filtered_df_amd[rows_in_amd_also_in_meta]\n",
    "filtered_df_meta = filtered_df_meta[rows_in_meta_also_in_amd]"
   ],
   "id": "b444111c6b6db9bb",
   "outputs": [],
   "execution_count": 80
  },
  {
   "metadata": {
    "ExecuteTime": {
     "end_time": "2024-11-11T15:29:30.403214Z",
     "start_time": "2024-11-11T15:29:30.390216Z"
    }
   },
   "cell_type": "code",
   "source": [
    "print (len(filtered_df_amd))\n",
    "print (len(filtered_df_meta))"
   ],
   "id": "b450ef72586aed9",
   "outputs": [
    {
     "name": "stdout",
     "output_type": "stream",
     "text": [
      "3453\n",
      "3453\n"
     ]
    }
   ],
   "execution_count": 81
  },
  {
   "metadata": {
    "ExecuteTime": {
     "end_time": "2024-11-11T15:29:30.419275Z",
     "start_time": "2024-11-11T15:29:30.404219Z"
    }
   },
   "cell_type": "code",
   "source": [
    "# Create a new DataFrame or use .loc to avoid \"SettingWithCopyWarning\"\n",
    "filtered_df_amd=filtered_df_amd.copy()\n",
    "filtered_df_meta=filtered_df_meta.copy()\n",
    "\n",
    "# Apply log transformation using .loc\n",
    "filtered_df_amd.loc[:, 'log_close'] = np.log(filtered_df_amd['close'])\n",
    "filtered_df_meta.loc[:, 'log_close'] = np.log(filtered_df_meta['close'])"
   ],
   "id": "f93025cead1a9fe2",
   "outputs": [],
   "execution_count": 82
  },
  {
   "metadata": {
    "ExecuteTime": {
     "end_time": "2024-11-11T15:29:30.435270Z",
     "start_time": "2024-11-11T15:29:30.421262Z"
    }
   },
   "cell_type": "code",
   "source": "filtered_df_amd.head(5)",
   "id": "c5cd81fafc75245c",
   "outputs": [
    {
     "data": {
      "text/plain": [
       "      symbol                  timestamp    close  log_close\n",
       "61582    AMD  2024-01-02 03:00:00-06:00  146.800   4.989071\n",
       "61583    AMD  2024-01-02 04:00:00-06:00  146.640   4.987981\n",
       "61584    AMD  2024-01-02 05:00:00-06:00  145.150   4.977768\n",
       "61585    AMD  2024-01-02 06:00:00-06:00  144.100   4.970508\n",
       "61586    AMD  2024-01-02 07:00:00-06:00  144.299   4.971888"
      ],
      "text/html": [
       "<div>\n",
       "<style scoped>\n",
       "    .dataframe tbody tr th:only-of-type {\n",
       "        vertical-align: middle;\n",
       "    }\n",
       "\n",
       "    .dataframe tbody tr th {\n",
       "        vertical-align: top;\n",
       "    }\n",
       "\n",
       "    .dataframe thead th {\n",
       "        text-align: right;\n",
       "    }\n",
       "</style>\n",
       "<table border=\"1\" class=\"dataframe\">\n",
       "  <thead>\n",
       "    <tr style=\"text-align: right;\">\n",
       "      <th></th>\n",
       "      <th>symbol</th>\n",
       "      <th>timestamp</th>\n",
       "      <th>close</th>\n",
       "      <th>log_close</th>\n",
       "    </tr>\n",
       "  </thead>\n",
       "  <tbody>\n",
       "    <tr>\n",
       "      <th>61582</th>\n",
       "      <td>AMD</td>\n",
       "      <td>2024-01-02 03:00:00-06:00</td>\n",
       "      <td>146.800</td>\n",
       "      <td>4.989071</td>\n",
       "    </tr>\n",
       "    <tr>\n",
       "      <th>61583</th>\n",
       "      <td>AMD</td>\n",
       "      <td>2024-01-02 04:00:00-06:00</td>\n",
       "      <td>146.640</td>\n",
       "      <td>4.987981</td>\n",
       "    </tr>\n",
       "    <tr>\n",
       "      <th>61584</th>\n",
       "      <td>AMD</td>\n",
       "      <td>2024-01-02 05:00:00-06:00</td>\n",
       "      <td>145.150</td>\n",
       "      <td>4.977768</td>\n",
       "    </tr>\n",
       "    <tr>\n",
       "      <th>61585</th>\n",
       "      <td>AMD</td>\n",
       "      <td>2024-01-02 06:00:00-06:00</td>\n",
       "      <td>144.100</td>\n",
       "      <td>4.970508</td>\n",
       "    </tr>\n",
       "    <tr>\n",
       "      <th>61586</th>\n",
       "      <td>AMD</td>\n",
       "      <td>2024-01-02 07:00:00-06:00</td>\n",
       "      <td>144.299</td>\n",
       "      <td>4.971888</td>\n",
       "    </tr>\n",
       "  </tbody>\n",
       "</table>\n",
       "</div>"
      ]
     },
     "execution_count": 83,
     "metadata": {},
     "output_type": "execute_result"
    }
   ],
   "execution_count": 83
  },
  {
   "metadata": {
    "ExecuteTime": {
     "end_time": "2024-11-11T15:29:30.450737Z",
     "start_time": "2024-11-11T15:29:30.436265Z"
    }
   },
   "cell_type": "code",
   "source": [
    "X=filtered_df_meta['log_close'].reset_index(drop=True)\n",
    "Y=filtered_df_amd['log_close'].reset_index(drop=True)"
   ],
   "id": "f57442119159f901",
   "outputs": [],
   "execution_count": 84
  },
  {
   "metadata": {
    "ExecuteTime": {
     "end_time": "2024-11-11T15:29:31.031762Z",
     "start_time": "2024-11-11T15:29:30.467246Z"
    }
   },
   "cell_type": "code",
   "source": [
    "# Step 2: Run OLS regression\n",
    "model = sm.OLS(Y, sm.add_constant(X)).fit()\n",
    "residuals = model.resid"
   ],
   "id": "a8d53ab36150871c",
   "outputs": [],
   "execution_count": 86
  },
  {
   "metadata": {
    "ExecuteTime": {
     "end_time": "2024-11-11T15:30:08.785159Z",
     "start_time": "2024-11-11T15:30:08.704817Z"
    }
   },
   "cell_type": "code",
   "source": [
    "# Step 3: Test residuals for stationarity\n",
    "adf_test = adfuller(residuals)"
   ],
   "id": "d99c0939261d817a",
   "outputs": [],
   "execution_count": 87
  },
  {
   "metadata": {
    "ExecuteTime": {
     "end_time": "2024-11-11T15:30:17.858828Z",
     "start_time": "2024-11-11T15:30:17.843819Z"
    }
   },
   "cell_type": "code",
   "source": [
    "# Step 4: Interpret the result\n",
    "print(\"ADF Test Statistic:\", adf_test[0])\n",
    "print(\"p-value:\", adf_test[1])\n",
    "\n",
    "# If p-value < 0.05, the residuals are stationary, and the series are cointegrated\n",
    "if adf_test[1] < 0.05:\n",
    "    print(\"The series are cointegrated.\")\n",
    "else:\n",
    "    print(\"The series are not cointegrated.\")"
   ],
   "id": "83f17ad3f7a2fec0",
   "outputs": [
    {
     "name": "stdout",
     "output_type": "stream",
     "text": [
      "ADF Test Statistic: -2.412345041606113\n",
      "p-value: 0.1382823843187277\n",
      "The series are not cointegrated.\n"
     ]
    }
   ],
   "execution_count": 88
  }
 ],
 "metadata": {
  "kernelspec": {
   "display_name": "Python 3",
   "language": "python",
   "name": "python3"
  },
  "language_info": {
   "codemirror_mode": {
    "name": "ipython",
    "version": 2
   },
   "file_extension": ".py",
   "mimetype": "text/x-python",
   "name": "python",
   "nbconvert_exporter": "python",
   "pygments_lexer": "ipython2",
   "version": "2.7.6"
  }
 },
 "nbformat": 4,
 "nbformat_minor": 5
}
